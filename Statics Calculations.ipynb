{
 "cells": [
  {
   "cell_type": "markdown",
   "metadata": {},
   "source": [
    "# Functions "
   ]
  },
  {
   "cell_type": "code",
   "execution_count": 1,
   "metadata": {
    "collapsed": true
   },
   "outputs": [],
   "source": [
    "def spring_force(force, p1, p2, equil=1.75):\n",
    "    'Calculates stretch and returns force vector'\n",
    "    stretch = np.linalg.norm(p2-p1)-equil\n",
    "    unit_vector = (p2-p1)/np.linalg.norm(p2-p1)\n",
    "    hooke_force = force*stretch # applies Hooke's Law\n",
    "    return hooke_force*unit_vector\n",
    "    \n",
    "def pos_diff(p1,p2):\n",
    "    'Returns tuple of difference vector between p1 and p2, and the magnitude of the distance'\n",
    "    stretch = sqrt((p2[0] - p1[0])**2 + (p2[1]-p1[1])**2 + (p2[2] - p1[2])**2)\n",
    "    diff = p2-p1\n",
    "    return diff"
   ]
  },
  {
   "cell_type": "markdown",
   "metadata": {},
   "source": [
    "# Initialization of Variables"
   ]
  },
  {
   "cell_type": "code",
   "execution_count": 2,
   "metadata": {
    "collapsed": false
   },
   "outputs": [],
   "source": [
    "%matplotlib qt\n",
    "import numpy as np\n",
    "from math import sqrt\n",
    "import matplotlib.pyplot as plt\n",
    "import pylab\n",
    "import numpy as np\n",
    "from mpl_toolkits.mplot3d import Axes3D\n",
    "\n",
    "force = 5 # sample spring constant\n",
    "np.set_printoptions(precision=4)\n",
    "hook_offset = 0.375\n",
    "\n",
    "E = np.array([0,0,6.735])\n",
    "F = np.array([0,7,6.735])\n",
    "G = np.array([9,7,6.375])\n",
    "H = np.array([9,0.375,6.75])\n",
    "I = np.array([7,-1.25,11])\n",
    "J = np.array([-0.5,2.375,11.25])\n",
    "K = np.array([6,7.125,11.5])\n",
    "\n",
    "#Variable Positions- Standard Equilibrium\n",
    "A = np.array([2.75,2.125,6.25])\n",
    "B = np.array([2.625, 6,6.25])\n",
    "C = np.array([6.125,6,6.25])\n",
    "D = np.array([6.25,3,6.25])\n",
    "\n",
    "#Variable Positions- With added forces\n",
    "A_prime = np.array([2.75,1.15, 7.75])\n",
    "B_prime = np.array([2,4.75,8.25])\n",
    "C_prime = np.array([5.75,4.875,8.25])\n",
    "D_prime = np.array([6,1.625,8])\n",
    "\n",
    "#Variable Positions- With replacement wrench\n",
    "A2_prime = np.array([2.25,2.125,7.5])\n",
    "B2_prime = np.array([2.25,6.125,7.25])\n",
    "C2_prime = np.array([6,6,7.25])\n",
    "D2_prime = np.array([6,2,7.5])"
   ]
  },
  {
   "cell_type": "markdown",
   "metadata": {},
   "source": [
    "# Calculation of Replacement Wrench "
   ]
  },
  {
   "cell_type": "code",
   "execution_count": 3,
   "metadata": {
    "collapsed": false
   },
   "outputs": [
    {
     "name": "stdout",
     "output_type": "stream",
     "text": [
      "Parallel Moment: 6.85816003973\n",
      "Perpendicular Moment: [ 47.965  -67.5562  15.2435] 84.2428229083\n",
      "Replacement Location on Suspension: (2.3122069911806311, 1.6416693988712212)\n"
     ]
    }
   ],
   "source": [
    "#Forces causing new equilibrium\n",
    "f1 = spring_force(force, C_prime, K)\n",
    "f2 = spring_force(force, A_prime, J)\n",
    "f3 = spring_force(force, D_prime, I)\n",
    "sum_forces = f1+f2+f3\n",
    "\n",
    "#print(\"sum forces:\",sum_forces)\n",
    "#Find unit vector for later moment projection\n",
    "unit_force = sum_forces/sqrt(sum_forces[0]**2 + sum_forces[1]**2 + sum_forces[2]**2)\n",
    "\n",
    "# Define point A_prime to be point of reference for wrench calculation; position vectors\n",
    "r1 = C_prime - A_prime\n",
    "r2 = A_prime - A_prime\n",
    "r3 = D_prime - A_prime\n",
    "\n",
    "# Moments \n",
    "m1 = np.cross(r1,f2)\n",
    "m2 = np.cross(r2,f2)\n",
    "m3 = np.cross(r3,f3)\n",
    "\n",
    "#Calculate moment perpendicular\n",
    "sum_moments = m1+m2+m3\n",
    "m_parallel = np.dot(sum_moments, unit_force)*unit_force #moment projected onto unit force vector\n",
    "m_perp = sum_moments - m_parallel\n",
    "print(\"Parallel Moment:\",np.linalg.norm(m_parallel))\n",
    "print(\"Perpendicular Moment:\", m_perp, np.linalg.norm(m_perp))\n",
    "\n",
    "\n",
    "#solve with two equations, adjusted for absolute coordinates\n",
    "x_loc = m_perp[1]/-sum_forces[2] \n",
    "y_loc = m_perp[0]/sum_forces[2]\n",
    "#z_loc = A_prime[2] + z_function_adjustment\n",
    "print(\"Replacement Location on Suspension:\",(x_loc,y_loc))\n",
    "\n",
    "\n",
    "#Z position adjustment\n",
    "p1 = B_prime - A_prime\n",
    "p2 = D_prime - A_prime\n",
    "n = np.cross(p2,p1)\n",
    "z = (n[0]*x_loc + n[1]*y_loc)/n[2]\n",
    "\n",
    "#Find replacement location in absolute coordinates\n",
    "inter_stretch = sum_forces/force/2 # divide by two for TWO springs applied\n",
    "#print(inter_stretch)\n",
    "r_start = (x_loc+A_prime[0],y_loc+A_prime[1],A_prime[2]-z + hook_offset)\n",
    "r_end = (x_loc+A_prime[0]+inter_stretch[0], y_loc+A_prime[1] + inter_stretch[1], A_prime[2]-z + inter_stretch[2] + hook_offset)\n",
    "#print(r_start)\n",
    "#print(r_end)"
   ]
  },
  {
   "cell_type": "markdown",
   "metadata": {},
   "source": [
    "# Graph of Points"
   ]
  },
  {
   "cell_type": "code",
   "execution_count": 4,
   "metadata": {
    "collapsed": false
   },
   "outputs": [
    {
     "data": {
      "text/plain": [
       "<mpl_toolkits.mplot3d.art3d.Text3D at 0x283098ccac8>"
      ]
     },
     "execution_count": 4,
     "metadata": {},
     "output_type": "execute_result"
    }
   ],
   "source": [
    "#Original Points without external forces\n",
    "fig = pylab.figure()\n",
    "ax = Axes3D(fig)\n",
    "plt.title('Original Positions')\n",
    "plt.xlabel('X')\n",
    "plt.ylabel('Y')\n",
    "index = 0\n",
    "labels = ['A','B','C','D','E','F','G','H','I','J','K']\n",
    "for point in [A,B,C,D,E,F,G,H,I,J,K]:\n",
    "    ax.scatter3D(point[0], point[1], point[2])\n",
    "    ax.text3D(point[0], point[1], point[2], '%s' % (labels[index]))\n",
    "    index += 1\n",
    "    \n",
    "#Points after applied system of forces\n",
    "fig2 = pylab.figure()\n",
    "ax2 = Axes3D(fig2)\n",
    "plt.title('System of Forces')\n",
    "plt.xlabel('X')\n",
    "plt.ylabel('Y')\n",
    "index = 0\n",
    "labels = ['A\\'','B\\'','C\\'','D\\'','E','F','G','H','I','J','K']\n",
    "for point in [A_prime,B_prime,C_prime,D_prime,E,F,G,H,I,J,K]:\n",
    "    ax2.scatter3D(point[0], point[1], point[2])\n",
    "    ax2.text3D(point[0], point[1], point[2], '%s' % (labels[index]))\n",
    "    index += 1\n",
    "    \n",
    "#Replacement position on suspension\n",
    "ax2.scatter3D(r_start[0], r_start[1], r_start[2], c='r')\n",
    "ax2.text3D(r_start[0], r_start[1], r_start[2], '{:.4}, {:.4}, {:.4}'.format(r_start[0],r_start[1],r_start[2]))\n",
    "\n",
    "#Replacement end point\n",
    "ax2.scatter3D(r_end[0], r_end[1], r_end[2], c='r')\n",
    "ax2.text3D(r_end[0], r_end[1], r_end[2], '{:.4}, {:.4}, {:.4}'.format(r_end[0],r_end[1],r_end[2]))\n",
    "\n",
    "#Replacement string line\n",
    "#ax2.plot(np.array([r_start[0],r_end[0]]),np.array([r_start[1],r_end[1]]),np.array([r_start[2],r_end[2]]))"
   ]
  },
  {
   "cell_type": "markdown",
   "metadata": {},
   "source": [
    "# Error Checking "
   ]
  },
  {
   "cell_type": "code",
   "execution_count": 5,
   "metadata": {
    "collapsed": false
   },
   "outputs": [
    {
     "name": "stdout",
     "output_type": "stream",
     "text": [
      "Error 1: [ 0.5   -0.975  0.25 ]\n",
      "Error 2: [-0.25  -1.375  1.   ]\n",
      "Error 3: [-0.25  -1.125  1.   ]\n",
      "Error 4: [ 0.    -0.375  0.5  ]\n"
     ]
    }
   ],
   "source": [
    "#Takes difference between system of forces position and replacement force position\n",
    "e1 = pos_diff(A, A_prime) - pos_diff(A,A2_prime)\n",
    "e2 = pos_diff(B, B_prime) - pos_diff(B,B2_prime)\n",
    "e3 = pos_diff(C, C_prime) - pos_diff(C,C2_prime)\n",
    "e4 = pos_diff(D, D_prime) - pos_diff(D,D2_prime)\n",
    "print(\"Error 1:\",e1)\n",
    "print(\"Error 2:\",e2)\n",
    "print(\"Error 3:\",e3)\n",
    "print(\"Error 4:\",e4)"
   ]
  },
  {
   "cell_type": "code",
   "execution_count": 6,
   "metadata": {
    "collapsed": false
   },
   "outputs": [],
   "source": [
    "#Plots suspension positions next to each  other for visual analysis\n",
    "fig3 = pylab.figure()\n",
    "ax3 = Axes3D(fig3)\n",
    "plt.xlim(0,11.5)\n",
    "plt.ylim(0,11.5)\n",
    "ax3.set_zlim3d(0,12)\n",
    "#System of forces\n",
    "index = 0\n",
    "labels = ['A\\'','B\\'','C\\'','D\\'']\n",
    "for point in [A_prime,B_prime,C_prime,D_prime]:\n",
    "    ax3.scatter3D(point[0], point[1], point[2], c='b')\n",
    "    ax3.text3D(point[0], point[1], point[2], '{}'.format(labels[index]))\n",
    "    index += 1\n",
    "    \n",
    "#Replacement force\n",
    "index = 0\n",
    "labels2 = ['A2','B2','C2','D2']\n",
    "for point in [A2_prime,B2_prime,C2_prime,D2_prime]:\n",
    "    ax3.scatter3D(point[0], point[1], point[2],c='r')\n",
    "    ax3.text3D(point[0], point[1], point[2], '{}'.format(labels2[index]))\n",
    "    index += 1"
   ]
  }
 ],
 "metadata": {
  "kernelspec": {
   "display_name": "Python 3",
   "language": "python",
   "name": "python3"
  },
  "language_info": {
   "codemirror_mode": {
    "name": "ipython",
    "version": 3
   },
   "file_extension": ".py",
   "mimetype": "text/x-python",
   "name": "python",
   "nbconvert_exporter": "python",
   "pygments_lexer": "ipython3",
   "version": "3.5.1"
  }
 },
 "nbformat": 4,
 "nbformat_minor": 0
}
